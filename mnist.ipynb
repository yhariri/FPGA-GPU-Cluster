{
 "cells": [
  {
   "cell_type": "markdown",
   "id": "c3bbe83e",
   "metadata": {},
   "source": [
    "# Introduction to Deep Learning with Tensorflow and Keras"
   ]
  },
  {
   "cell_type": "markdown",
   "id": "5369af80",
   "metadata": {},
   "source": [
    "### Set up the environement"
   ]
  },
  {
   "cell_type": "code",
   "execution_count": null,
   "id": "17b72f01",
   "metadata": {},
   "outputs": [],
   "source": [
    "import sys\n",
    "import pandas as pd\n",
    "import sklearn as sk\n",
    "import tensorflow as tf\n",
    "import tensorflow.keras as keras\n",
    "\n",
    "print(f\"Tensor Flow Version: {tf.__version__}\")\n",
    "print(f\"Keras Version: {keras.__version__}\")\n",
    "print()\n",
    "print(f\"Python {sys.version}\")\n",
    "print(f\"Pandas {pd.__version__}\")\n",
    "print(f\"Scikit-Learn {sk.__version__}\")\n",
    "gpu = len(tf.config.list_physical_devices('GPU'))>0\n",
    "print(\"GPU is\", \"available\" if gpu else \"NOT AVAILABLE\")"
   ]
  },
  {
   "cell_type": "markdown",
   "id": "cf3f569d",
   "metadata": {},
   "source": [
    "### Download and unpack the data"
   ]
  },
  {
   "cell_type": "code",
   "execution_count": null,
   "id": "163c554e",
   "metadata": {
    "scrolled": true
   },
   "outputs": [],
   "source": [
    "mnist = tf.keras.datasets.mnist # 28 x 28 images of MNIST digits classification dataset\n",
    "(x_train, y_train),(x_test, y_test) = mnist.load_data() # unpack the data"
   ]
  },
  {
   "cell_type": "markdown",
   "id": "cfb12d73",
   "metadata": {},
   "source": [
    "### This print the size of our Dataset for training (x_train) and the size of our Dataset for testing (x_test):"
   ]
  },
  {
   "cell_type": "code",
   "execution_count": null,
   "id": "e1f4e43d",
   "metadata": {},
   "outputs": [],
   "source": [
    "len(x_train)"
   ]
  },
  {
   "cell_type": "code",
   "execution_count": null,
   "id": "55f60dab",
   "metadata": {},
   "outputs": [],
   "source": [
    "len(x_test)"
   ]
  },
  {
   "cell_type": "code",
   "execution_count": null,
   "id": "baf33afa",
   "metadata": {},
   "outputs": [],
   "source": [
    "x_train[0].shape"
   ]
  },
  {
   "cell_type": "markdown",
   "id": "16b6bb7f",
   "metadata": {},
   "source": [
    "### Let's look at this actual data. x_train [0] is the first image of our Dataset,  y_train[0] is the label of our first image of our Dataset:"
   ]
  },
  {
   "cell_type": "code",
   "execution_count": null,
   "id": "39b5f431",
   "metadata": {
    "scrolled": true
   },
   "outputs": [],
   "source": [
    "print(x_train[0])\n",
    "print(y_train[0])"
   ]
  },
  {
   "cell_type": "markdown",
   "id": "873f3e5d",
   "metadata": {},
   "source": [
    "### Here we can display the first image of our Dataset:"
   ]
  },
  {
   "cell_type": "code",
   "execution_count": null,
   "id": "2239f34e",
   "metadata": {
    "scrolled": true
   },
   "outputs": [],
   "source": [
    "import matplotlib.pyplot as plt\n",
    "\n",
    "plt.imshow(x_train[0],cmap=plt.cm.binary)\n",
    "#plt.imshow(x_train[0])\n",
    "plt.show()"
   ]
  },
  {
   "cell_type": "markdown",
   "id": "32e37aa4",
   "metadata": {},
   "source": [
    "### Lets display the first 10 labels of our Dataset:"
   ]
  },
  {
   "cell_type": "code",
   "execution_count": null,
   "id": "42d32f14",
   "metadata": {},
   "outputs": [],
   "source": [
    "y_train[:10]"
   ]
  },
  {
   "cell_type": "markdown",
   "id": "14a78718",
   "metadata": {},
   "source": [
    "### Before Training We need to normalize our Dataset to keep all the values between 0 and 1:"
   ]
  },
  {
   "cell_type": "code",
   "execution_count": null,
   "id": "7ec4bd04",
   "metadata": {},
   "outputs": [],
   "source": [
    "x_train = tf.keras.utils.normalize(x_train, axis=1)\n",
    "x_test = tf.keras.utils.normalize(x_test, axis=1)"
   ]
  },
  {
   "cell_type": "markdown",
   "id": "1f607a70",
   "metadata": {},
   "source": [
    "### Lets look at the notmalized Data of our first image in both numbers and graphical representation:"
   ]
  },
  {
   "cell_type": "code",
   "execution_count": null,
   "id": "bdfe28a4",
   "metadata": {},
   "outputs": [],
   "source": [
    "print(x_train[0])\n",
    "\n",
    "plt.imshow(x_train[0],cmap=plt.cm.binary)\n",
    "plt.show()"
   ]
  },
  {
   "cell_type": "markdown",
   "id": "b6be9c70",
   "metadata": {},
   "source": [
    "### At this point, we can build and train our neural network:"
   ]
  },
  {
   "cell_type": "code",
   "execution_count": null,
   "id": "3c9d7839",
   "metadata": {},
   "outputs": [],
   "source": [
    "model = tf.keras.models.Sequential()\n",
    "model.add(tf.keras.layers.Flatten())\n",
    "model.add(tf.keras.layers.Dense(128, activation=tf.nn.relu))\n",
    "model.add(tf.keras.layers.Dense(128, activation=tf.nn.relu))\n",
    "model.add(tf.keras.layers.Dense(10, activation=tf.nn.softmax))\n",
    "model.compile(optimizer='adam',\n",
    "              loss='sparse_categorical_crossentropy',\n",
    "              metrics=['accuracy'])\n",
    "model.fit(x_train, y_train, epochs=3)\n"
   ]
  },
  {
   "cell_type": "markdown",
   "id": "05dfa7f3",
   "metadata": {},
   "source": [
    "### After completing the training, we can evalute our trained network against the testing dataset:"
   ]
  },
  {
   "cell_type": "code",
   "execution_count": null,
   "id": "10a46d92",
   "metadata": {},
   "outputs": [],
   "source": [
    "val_loss, val_acc = model.evaluate(x_test, y_test)\n",
    "print(val_loss)\n",
    "print(val_acc)"
   ]
  },
  {
   "cell_type": "markdown",
   "id": "788a2323",
   "metadata": {},
   "source": [
    "### This is how we can save a trained model:"
   ]
  },
  {
   "cell_type": "code",
   "execution_count": null,
   "id": "00397b3b",
   "metadata": {},
   "outputs": [],
   "source": [
    "model.save('epic_num_reader.model')\n"
   ]
  },
  {
   "cell_type": "markdown",
   "id": "6ca51522",
   "metadata": {},
   "source": [
    "### Here we load the saved model:"
   ]
  },
  {
   "cell_type": "code",
   "execution_count": null,
   "id": "42a4db75",
   "metadata": {},
   "outputs": [],
   "source": [
    "new_model = tf.keras.models.load_model('epic_num_reader.model')\n"
   ]
  },
  {
   "cell_type": "markdown",
   "id": "bafd01d3",
   "metadata": {},
   "source": [
    "### Lets calculate all the predictions of the testing dataset and save them to predictions, then we print predictions:"
   ]
  },
  {
   "cell_type": "code",
   "execution_count": null,
   "id": "b7c2def2",
   "metadata": {},
   "outputs": [],
   "source": [
    "predictions = new_model.predict(x_test)\n"
   ]
  },
  {
   "cell_type": "code",
   "execution_count": null,
   "id": "96e4f471",
   "metadata": {},
   "outputs": [],
   "source": [
    "print(predictions)\n"
   ]
  },
  {
   "cell_type": "markdown",
   "id": "1fcb01ef",
   "metadata": {},
   "source": [
    "### Just to make thinks easier to read, we will import numpy and use argmax to display the hight probability of predictions:"
   ]
  },
  {
   "cell_type": "code",
   "execution_count": null,
   "id": "34eec1a5",
   "metadata": {},
   "outputs": [],
   "source": [
    "import numpy as np\n",
    "\n",
    "print(np.argmax(predictions[43]))"
   ]
  },
  {
   "cell_type": "markdown",
   "id": "097bd2ac",
   "metadata": {},
   "source": [
    "### Here we display the image served to the network. this image should be the same as the predicated value."
   ]
  },
  {
   "cell_type": "code",
   "execution_count": null,
   "id": "c764425d",
   "metadata": {},
   "outputs": [],
   "source": [
    "plt.imshow(x_test[43],cmap=plt.cm.binary)\n",
    "plt.show()"
   ]
  },
  {
   "cell_type": "markdown",
   "id": "863deb72",
   "metadata": {},
   "source": [
    "### Finally, we can display the confusion matrix to see how the trained neural netwoork performed on the whole testing dataset:"
   ]
  },
  {
   "cell_type": "code",
   "execution_count": null,
   "id": "409ed08a",
   "metadata": {},
   "outputs": [],
   "source": [
    "y_predicted = model.predict(x_test)\n",
    "y_predicted_labels = [np.argmax(i) for i in y_predicted]\n",
    "cm = tf.math.confusion_matrix(labels=y_test,predictions=y_predicted_labels)"
   ]
  },
  {
   "cell_type": "code",
   "execution_count": null,
   "id": "4fc39357",
   "metadata": {},
   "outputs": [],
   "source": [
    "cm"
   ]
  },
  {
   "cell_type": "markdown",
   "id": "d8cd593e",
   "metadata": {},
   "source": [
    "### For more fun, go back and change the code to explore more!"
   ]
  }
 ],
 "metadata": {
  "kernelspec": {
   "display_name": "Python 3.7 (tensorflow)",
   "language": "python",
   "name": "tensorflow"
  },
  "language_info": {
   "codemirror_mode": {
    "name": "ipython",
    "version": 3
   },
   "file_extension": ".py",
   "mimetype": "text/x-python",
   "name": "python",
   "nbconvert_exporter": "python",
   "pygments_lexer": "ipython3",
   "version": "3.7.10"
  }
 },
 "nbformat": 4,
 "nbformat_minor": 5
}
